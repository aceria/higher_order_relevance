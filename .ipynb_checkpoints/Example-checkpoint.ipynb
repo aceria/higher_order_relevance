{
 "cells": [
  {
   "cell_type": "markdown",
   "metadata": {},
   "source": [
    "## Example "
   ]
  },
  {
   "cell_type": "markdown",
   "metadata": {},
   "source": [
    "An example of how to use the methods from the paper \"The relevance of higher-order networks\""
   ]
  },
  {
   "cell_type": "markdown",
   "metadata": {},
   "source": [
    "### Importing the data from a list of hyperlinks (or links (node,hyperlink) of a bipartite network) and labels"
   ]
  },
  {
   "cell_type": "markdown",
   "metadata": {},
   "source": [
    "(Data are obtained from the folder at https://www.cs.cornell.edu/~arb/data/)"
   ]
  },
  {
   "cell_type": "code",
   "execution_count": 1,
   "metadata": {},
   "outputs": [],
   "source": [
    "import sys\n",
    "sys.path.insert(0,'Code/')\n",
    "from utilities import *"
   ]
  },
  {
   "cell_type": "code",
   "execution_count": 2,
   "metadata": {},
   "outputs": [],
   "source": [
    "file_hyper = open('Data/senate-bills/hyperedges-senate-bills.txt','r')\n",
    "file_labels = open('Data/senate-bills/node-labels-senate-bills.txt','r')\n",
    "hyperlinks = [eval(x.replace(\"\\n\", \"\")) for x in file_hyper.readlines()]\n",
    "labels = [int(x.replace(\"\\n\", \"\")) for x in file_labels.readlines()]\n",
    "df_network = pd.Series(hyperlinks).reset_index()\n",
    "df_network.columns = ['hyperlink_id','nodes']\n",
    "\n"
   ]
  },
  {
   "cell_type": "code",
   "execution_count": 3,
   "metadata": {},
   "outputs": [],
   "source": [
    "df = get_df_hyper(hyperlinks,labels,return_labels_dict=False)"
   ]
  },
  {
   "cell_type": "code",
   "execution_count": 4,
   "metadata": {},
   "outputs": [
    {
     "data": {
      "text/html": [
       "<div>\n",
       "<style scoped>\n",
       "    .dataframe tbody tr th:only-of-type {\n",
       "        vertical-align: middle;\n",
       "    }\n",
       "\n",
       "    .dataframe tbody tr th {\n",
       "        vertical-align: top;\n",
       "    }\n",
       "\n",
       "    .dataframe thead th {\n",
       "        text-align: right;\n",
       "    }\n",
       "</style>\n",
       "<table border=\"1\" class=\"dataframe\">\n",
       "  <thead>\n",
       "    <tr style=\"text-align: right;\">\n",
       "      <th></th>\n",
       "      <th>hyperlink_id</th>\n",
       "      <th>nodes</th>\n",
       "      <th>order</th>\n",
       "      <th>labels</th>\n",
       "    </tr>\n",
       "  </thead>\n",
       "  <tbody>\n",
       "    <tr>\n",
       "      <th>0</th>\n",
       "      <td>0</td>\n",
       "      <td>(1, 2, 3)</td>\n",
       "      <td>3</td>\n",
       "      <td>(1, 1, 2)</td>\n",
       "    </tr>\n",
       "    <tr>\n",
       "      <th>1</th>\n",
       "      <td>1</td>\n",
       "      <td>(4, 5, 6)</td>\n",
       "      <td>3</td>\n",
       "      <td>(1, 1, 1)</td>\n",
       "    </tr>\n",
       "    <tr>\n",
       "      <th>2</th>\n",
       "      <td>2</td>\n",
       "      <td>(1, 3, 7, 8, 9, 10, 11, 12, 13, 14, 15, 16, 17)</td>\n",
       "      <td>13</td>\n",
       "      <td>(1, 2, 2, 2, 2, 2, 2, 2, 2, 2, 2, 2, 2)</td>\n",
       "    </tr>\n",
       "    <tr>\n",
       "      <th>3</th>\n",
       "      <td>3</td>\n",
       "      <td>(18, 19, 20)</td>\n",
       "      <td>3</td>\n",
       "      <td>(1, 1, 1)</td>\n",
       "    </tr>\n",
       "    <tr>\n",
       "      <th>4</th>\n",
       "      <td>4</td>\n",
       "      <td>(4, 5, 21, 22, 23, 24, 25, 26, 27, 28, 29, 30,...</td>\n",
       "      <td>13</td>\n",
       "      <td>(1, 1, 2, 1, 1, 1, 1, 1, 1, 2, 2, 2, 1)</td>\n",
       "    </tr>\n",
       "  </tbody>\n",
       "</table>\n",
       "</div>"
      ],
      "text/plain": [
       "   hyperlink_id                                              nodes  order  \\\n",
       "0             0                                          (1, 2, 3)      3   \n",
       "1             1                                          (4, 5, 6)      3   \n",
       "2             2    (1, 3, 7, 8, 9, 10, 11, 12, 13, 14, 15, 16, 17)     13   \n",
       "3             3                                       (18, 19, 20)      3   \n",
       "4             4  (4, 5, 21, 22, 23, 24, 25, 26, 27, 28, 29, 30,...     13   \n",
       "\n",
       "                                    labels  \n",
       "0                                (1, 1, 2)  \n",
       "1                                (1, 1, 1)  \n",
       "2  (1, 2, 2, 2, 2, 2, 2, 2, 2, 2, 2, 2, 2)  \n",
       "3                                (1, 1, 1)  \n",
       "4  (1, 1, 2, 1, 1, 1, 1, 1, 1, 2, 2, 2, 1)  "
      ]
     },
     "execution_count": 4,
     "metadata": {},
     "output_type": "execute_result"
    }
   ],
   "source": [
    "df.head()"
   ]
  },
  {
   "cell_type": "markdown",
   "metadata": {},
   "source": [
    "### Compute the order contribution and relevance for the overall sum of link weights $\\Lambda$ and for the sum of inter $\\Lambda_{inter,\\ell}$ and intra $\\Lambda_{intra,\\ell}$ label link weights "
   ]
  },
  {
   "cell_type": "code",
   "execution_count": 5,
   "metadata": {},
   "outputs": [],
   "source": [
    "from link_weights import run_order_relevance_analysis"
   ]
  },
  {
   "cell_type": "code",
   "execution_count": 6,
   "metadata": {},
   "outputs": [
    {
     "name": "stdout",
     "output_type": "stream",
     "text": [
      "data loaded\n"
     ]
    }
   ],
   "source": [
    "sr_overall = run_order_relevance_analysis(hyperlinks,labels,size_lim=50, type_analysis='overall', binned=False, unweighted=True,local_size_lim=True)"
   ]
  },
  {
   "cell_type": "code",
   "execution_count": 7,
   "metadata": {},
   "outputs": [
    {
     "name": "stdout",
     "output_type": "stream",
     "text": [
      "data loaded\n"
     ]
    }
   ],
   "source": [
    "sr_local = run_order_relevance_analysis(hyperlinks,labels,size_lim=50, type_analysis='labelled', binned=False, unweighted=True,local_size_lim=True)"
   ]
  },
  {
   "cell_type": "markdown",
   "metadata": {},
   "source": [
    "##### Explore the results structure"
   ]
  },
  {
   "cell_type": "code",
   "execution_count": 8,
   "metadata": {},
   "outputs": [
    {
     "data": {
      "text/plain": [
       "dict_keys(['order_contribution', 'order_relevance'])"
      ]
     },
     "execution_count": 8,
     "metadata": {},
     "output_type": "execute_result"
    }
   ],
   "source": [
    "sr_overall.keys()"
   ]
  },
  {
   "cell_type": "code",
   "execution_count": 9,
   "metadata": {},
   "outputs": [
    {
     "data": {
      "text/plain": [
       "dict_keys(['order_contribution', 'order_relevance'])"
      ]
     },
     "execution_count": 9,
     "metadata": {},
     "output_type": "execute_result"
    }
   ],
   "source": [
    "sr_local.keys()"
   ]
  },
  {
   "cell_type": "code",
   "execution_count": 10,
   "metadata": {},
   "outputs": [
    {
     "data": {
      "text/plain": [
       "dict_keys(['different_label_1', 'different_label_2', 'same_label_1', 'same_label_2'])"
      ]
     },
     "execution_count": 10,
     "metadata": {},
     "output_type": "execute_result"
    }
   ],
   "source": [
    "sr_local['order_contribution'].keys()"
   ]
  },
  {
   "cell_type": "markdown",
   "metadata": {},
   "source": [
    "### Compute the group composition distribution $P(d,k)$ and group balance $\\Phi_{\\ell}$ for each label "
   ]
  },
  {
   "cell_type": "code",
   "execution_count": 11,
   "metadata": {},
   "outputs": [],
   "source": [
    "from joint_distribution_overlapp import run_analysis_joint_distr"
   ]
  },
  {
   "cell_type": "code",
   "execution_count": 12,
   "metadata": {},
   "outputs": [
    {
     "name": "stdout",
     "output_type": "stream",
     "text": [
      "1\n",
      "2\n"
     ]
    },
    {
     "data": {
      "image/png": "[encoded data removed]",
      "text/plain": [
       "<Figure size 432x288 with 2 Axes>"
      ]
     },
     "metadata": {
      "needs_background": "light"
     },
     "output_type": "display_data"
    },
    {
     "data": {
      "image/png": "[encoded data removed]",
      "text/plain": [
       "<Figure size 432x288 with 2 Axes>"
      ]
     },
     "metadata": {
      "needs_background": "light"
     },
     "output_type": "display_data"
    }
   ],
   "source": [
    "joint_distr = run_analysis_joint_distr(hyperlinks,labels,show_heatmap=True,save_obj = True,unweighted=True)"
   ]
  },
  {
   "cell_type": "markdown",
   "metadata": {},
   "source": [
    "##### Explore the results structure"
   ]
  },
  {
   "cell_type": "code",
   "execution_count": 13,
   "metadata": {},
   "outputs": [
    {
     "data": {
      "text/plain": [
       "dict_keys(['group_composition_distribution', 'group_balance'])"
      ]
     },
     "execution_count": 13,
     "metadata": {},
     "output_type": "execute_result"
    }
   ],
   "source": [
    "joint_distr.keys()"
   ]
  },
  {
   "cell_type": "code",
   "execution_count": 14,
   "metadata": {},
   "outputs": [
    {
     "data": {
      "text/plain": [
       "dict_keys([1, 2])"
      ]
     },
     "execution_count": 14,
     "metadata": {},
     "output_type": "execute_result"
    }
   ],
   "source": [
    "joint_distr['group_composition_distribution'].keys()"
   ]
  },
  {
   "cell_type": "markdown",
   "metadata": {},
   "source": [
    "### Compute the order contribution and relevance for the number of triangles $\\tau$"
   ]
  },
  {
   "cell_type": "code",
   "execution_count": 15,
   "metadata": {},
   "outputs": [],
   "source": [
    "from resilience_clustering_nx import run_clustering_analysis_fast\n"
   ]
  },
  {
   "cell_type": "markdown",
   "metadata": {},
   "source": [
    "##### Order contribution $\\tau^-(d)$ and relevance $\\Gamma(\\tau)$"
   ]
  },
  {
   "cell_type": "code",
   "execution_count": 16,
   "metadata": {},
   "outputs": [],
   "source": [
    "sr1 = run_clustering_analysis_fast(hyperlinks,label_list = labels,inverse_order=True,verbose = False)"
   ]
  },
  {
   "cell_type": "markdown",
   "metadata": {},
   "source": [
    "##### Complementary order contribution $\\overline{\\tau^-(d)}$ and relevance $\\overline{\\Gamma(\\tau})$"
   ]
  },
  {
   "cell_type": "code",
   "execution_count": 17,
   "metadata": {},
   "outputs": [],
   "source": [
    "sr1 = run_clustering_analysis_fast(hyperlinks,label_list = labels,inverse_order=False,verbose = False)"
   ]
  },
  {
   "cell_type": "markdown",
   "metadata": {},
   "source": [
    "##### Explore the results structure"
   ]
  },
  {
   "cell_type": "code",
   "execution_count": 18,
   "metadata": {},
   "outputs": [
    {
     "data": {
      "text/plain": [
       "{'order_contribution': 2     0.008063\n",
       " 3     0.059567\n",
       " 4     0.164142\n",
       " 5     0.277977\n",
       " 6     0.397637\n",
       " 7     0.502426\n",
       " 8     0.582624\n",
       " 9     0.652978\n",
       " 10    0.712270\n",
       " 11    0.757019\n",
       " 12    0.795616\n",
       " 13    0.820957\n",
       " 14    0.848436\n",
       " 15    0.873035\n",
       " 16    0.889658\n",
       " 17    0.902555\n",
       " 18    0.915646\n",
       " 19    0.928361\n",
       " 20    0.936622\n",
       " 21    0.943719\n",
       " 22    0.949742\n",
       " 23    0.956241\n",
       " 24    0.958771\n",
       " 25    0.962539\n",
       " 26    0.965846\n",
       " 27    0.969742\n",
       " 28    0.973012\n",
       " 29    0.974648\n",
       " 30    0.979051\n",
       " 31    0.981092\n",
       " 32    0.983250\n",
       " 33    0.984343\n",
       " 34    0.988433\n",
       " 35    0.989876\n",
       " 36    0.991000\n",
       " 37    0.991498\n",
       " 38    0.993121\n",
       " 39    0.995020\n",
       " 40    0.996747\n",
       " 41    0.997134\n",
       " 42    0.997434\n",
       " 43    0.997535\n",
       " 44    0.997837\n",
       " 45    0.998235\n",
       " 46    0.998435\n",
       " 47    0.998435\n",
       " 48    0.999694\n",
       " 49    0.999810\n",
       " 50    1.000000\n",
       " dtype: float64,\n",
       " 'order_relevance': 0.8533431841723335,\n",
       " 'overall_value': 968766.0}"
      ]
     },
     "execution_count": 18,
     "metadata": {},
     "output_type": "execute_result"
    }
   ],
   "source": [
    "sr1"
   ]
  },
  {
   "cell_type": "markdown",
   "metadata": {},
   "source": [
    "### Compute the order contribution and relevance for the size of the largest connected component $\\sigma$ and the number of nodes of each label $\\sigma_{\\ell}$ belonging to it."
   ]
  },
  {
   "cell_type": "code",
   "execution_count": 19,
   "metadata": {},
   "outputs": [],
   "source": [
    "from resilience_clustering_nx import run_resilience_analysis_fast\n"
   ]
  },
  {
   "cell_type": "markdown",
   "metadata": {},
   "source": [
    "##### Order contribution $\\sigma^-(d)$, $\\sigma_{\\ell}^-(d)$ and relevance $\\Gamma(\\sigma)$, $\\Gamma(\\sigma_{\\ell})$"
   ]
  },
  {
   "cell_type": "code",
   "execution_count": 20,
   "metadata": {},
   "outputs": [
    {
     "name": "stdout",
     "output_type": "stream",
     "text": [
      "50\n",
      "49\n",
      "48\n",
      "47\n",
      "46\n",
      "45\n",
      "44\n",
      "43\n",
      "42\n",
      "41\n",
      "40\n",
      "39\n",
      "38\n",
      "37\n",
      "36\n",
      "35\n",
      "34\n",
      "33\n",
      "32\n",
      "31\n",
      "30\n",
      "29\n",
      "28\n",
      "27\n",
      "26\n",
      "25\n",
      "24\n",
      "23\n",
      "22\n",
      "21\n",
      "20\n",
      "19\n",
      "18\n",
      "17\n",
      "16\n",
      "15\n",
      "14\n",
      "13\n",
      "12\n",
      "11\n",
      "10\n",
      "9\n",
      "8\n",
      "7\n",
      "6\n",
      "5\n",
      "4\n",
      "3\n",
      "2\n"
     ]
    }
   ],
   "source": [
    "sr = run_resilience_analysis_fast(hyperlinks,label_list = labels,inverse_order=True,save = True,verbose = False,size_lim_local=True)"
   ]
  },
  {
   "cell_type": "code",
   "execution_count": 21,
   "metadata": {},
   "outputs": [
    {
     "name": "stdout",
     "output_type": "stream",
     "text": [
      "2\n",
      "3\n",
      "4\n",
      "5\n",
      "6\n",
      "7\n",
      "8\n",
      "9\n",
      "10\n",
      "11\n",
      "12\n",
      "13\n",
      "14\n",
      "15\n",
      "16\n",
      "17\n",
      "18\n",
      "19\n",
      "20\n",
      "21\n",
      "22\n",
      "23\n",
      "24\n",
      "25\n",
      "26\n",
      "27\n",
      "28\n",
      "29\n",
      "30\n",
      "31\n",
      "32\n",
      "33\n",
      "34\n",
      "35\n",
      "36\n",
      "37\n",
      "38\n",
      "39\n",
      "40\n",
      "41\n",
      "42\n",
      "43\n",
      "44\n",
      "45\n",
      "46\n",
      "47\n",
      "48\n",
      "49\n",
      "50\n"
     ]
    }
   ],
   "source": [
    "sr1 = run_resilience_analysis_fast(hyperlinks,label_list = labels,inverse_order=False,save = True,verbose = False,size_lim_local = True)"
   ]
  },
  {
   "cell_type": "code",
   "execution_count": null,
   "metadata": {},
   "outputs": [],
   "source": []
  }
 ],
 "metadata": {
  "kernelspec": {
   "display_name": "py38",
   "language": "python",
   "name": "py38"
  },
  "language_info": {
   "codemirror_mode": {
    "name": "ipython",
    "version": 3
   },
   "file_extension": ".py",
   "mimetype": "text/x-python",
   "name": "python",
   "nbconvert_exporter": "python",
   "pygments_lexer": "ipython3",
   "version": "3.8.12"
  }
 },
 "nbformat": 4,
 "nbformat_minor": 2
}
